{
  "nbformat": 4,
  "nbformat_minor": 0,
  "metadata": {
    "colab": {
      "name": "cálculo dos coeficientes.ipynb",
      "provenance": [],
      "authorship_tag": "ABX9TyNhlP+03C2/dGvwODTBV1dh",
      "include_colab_link": true
    },
    "kernelspec": {
      "name": "python3",
      "display_name": "Python 3"
    }
  },
  "cells": [
    {
      "cell_type": "markdown",
      "metadata": {
        "id": "view-in-github",
        "colab_type": "text"
      },
      "source": [
        "<a href=\"https://colab.research.google.com/github/hugosousa111/segmentacao_base_ph2/blob/main/c%C3%A1lculo_dos_coeficientes.ipynb\" target=\"_parent\"><img src=\"https://colab.research.google.com/assets/colab-badge.svg\" alt=\"Open In Colab\"/></a>"
      ]
    },
    {
      "cell_type": "markdown",
      "metadata": {
        "id": "yOo-GBbnNjA1"
      },
      "source": [
        "# Configurações e Bibliotecas"
      ]
    },
    {
      "cell_type": "code",
      "metadata": {
        "id": "gIfXm9AGsVOm",
        "outputId": "c3ef1b40-5c31-4a42-f97d-93718fec164e",
        "colab": {
          "base_uri": "https://localhost:8080/",
          "height": 34
        }
      },
      "source": [
        "# Acessa o Drive\n",
        "from google.colab import drive\n",
        "drive.mount('/content/drive') "
      ],
      "execution_count": 1,
      "outputs": [
        {
          "output_type": "stream",
          "text": [
            "Mounted at /content/drive\n"
          ],
          "name": "stdout"
        }
      ]
    },
    {
      "cell_type": "code",
      "metadata": {
        "id": "tvnWNmBQsp17"
      },
      "source": [
        "import matplotlib.pyplot as plt \n",
        "import numpy as np \n",
        "from scipy import signal as sg\n",
        "import cv2 as cv\n",
        "import warnings\n",
        "warnings.filterwarnings(\"ignore\") \n",
        "import os\n",
        "from IPython.display import clear_output\n",
        "import pandas as pd\n",
        "from collections import deque "
      ],
      "execution_count": 2,
      "outputs": []
    },
    {
      "cell_type": "markdown",
      "metadata": {
        "id": "VLzgxit5NsPT"
      },
      "source": [
        "# Funções Auxiliares"
      ]
    },
    {
      "cell_type": "code",
      "metadata": {
        "id": "bgSJ2I6ttIWI"
      },
      "source": [
        "def salva_contexto(array, nome_array, j_d): \n",
        "    arq = open('/content/drive/My Drive/PH2_TCC/variaveis_'+j_d+'/'+nome_array+'.txt', 'w')\n",
        "    np.savetxt(arq, array)\n",
        "    arq.close()"
      ],
      "execution_count": 3,
      "outputs": []
    },
    {
      "cell_type": "code",
      "metadata": {
        "id": "XA04Numq4cY0"
      },
      "source": [
        "def get_names_images():\n",
        "    filenames= os.listdir (\"/content/drive/My Drive/PH2Dataset/PH2 Dataset images\") \n",
        "    result = []\n",
        "    for filename in filenames: \n",
        "        if os.path.isdir(os.path.join(os.path.abspath(\"/content/drive/My Drive/PH2Dataset/PH2 Dataset images\"), filename)):\n",
        "            result.append(filename)        \n",
        "    result.sort()\n",
        "    return result\n",
        "\n",
        "imagens = get_names_images()\n",
        "#imagens = imagens[0:30]\n",
        "#imagens"
      ],
      "execution_count": 4,
      "outputs": []
    },
    {
      "cell_type": "code",
      "metadata": {
        "id": "1cJV0-vO-0sm"
      },
      "source": [
        "def carrega_imagem_original(image, color=0):\n",
        "    img = cv.imread('/content/drive/My Drive/PH2Dataset/PH2 Dataset images/'+image+'/'+image+'_Dermoscopic_Image/'+image+'.bmp', color)\n",
        "    return img\n",
        "\n",
        "def carrega_imagem_lesion(image, color=0):\n",
        "    img = cv.imread('/content/drive/My Drive/PH2Dataset/PH2 Dataset images/'+image+'/'+image+'_lesion/'+image+'_lesion.bmp', color)\n",
        "    return img\n",
        "    \n",
        "def carrega_imagem_processada(image, color=0):\n",
        "    img = cv.imread('/content/drive/My Drive/PH2_TCC/Pre_Processadas_Black_Hat/'+image+'.png', color)\n",
        "    return img\n",
        "\n",
        "def carrega_Resultados_NPre_kmeans_Pos(image):\n",
        "    img = cv.imread('/content/drive/My Drive/PH2_TCC/Resultados_NPre_kmeans_Pos/'+image+'.png', 0)\n",
        "    return img\n",
        "\n",
        "def carrega_Resultados_Pre_kmeans_Pos(image):\n",
        "    img = cv.imread('/content/drive/My Drive/PH2_TCC/Resultados_Pre_kmeans_Pos/'+image+'.png', 0)\n",
        "    return img\n",
        "\n",
        "def carrega_Resultados_Pre_kmeans_NPos(image):\n",
        "    img = cv.imread('/content/drive/My Drive/PH2_TCC/Resultados_Pre_kmeans_NPos/'+image+'.png', 0)\n",
        "    return img\n",
        "\n",
        "def carrega_Resultados_NPre_kmeans_NPos(image):\n",
        "    img = cv.imread('/content/drive/My Drive/PH2_TCC/Resultados_NPre_kmeans_NPos/'+image+'.png', 0)\n",
        "    return img\n",
        "\n",
        "def carrega_Resultados_NPre_Otsu_Pos(image):\n",
        "    img = cv.imread('/content/drive/My Drive/PH2_TCC/Resultados_NPre_Otsu_Pos/'+image+'.png', 0)\n",
        "    return img\n",
        "\n",
        "def carrega_Resultados_Pre_Otsu_Pos(image):\n",
        "    img = cv.imread('/content/drive/My Drive/PH2_TCC/Resultados_Pre_Otsu_Pos/'+image+'.png', 0)\n",
        "    return img\n",
        "\n",
        "def carrega_Resultados_Pre_Otsu_NPos(image):\n",
        "    img = cv.imread('/content/drive/My Drive/PH2_TCC/Resultados_Pre_Otsu_NPos/'+image+'.png', 0)\n",
        "    return img\n",
        "\n",
        "def carrega_Resultados_NPre_Otsu_NPos(image):\n",
        "    img = cv.imread('/content/drive/My Drive/PH2_TCC/Resultados_NPre_Otsu_NPos/'+image+'.png', 0)\n",
        "    return img\n",
        "\n",
        "def carrega_Resultados_NPre_binarizacao_Pos(image):\n",
        "    img = cv.imread('/content/drive/My Drive/PH2_TCC/Resultados_NPre_binarizacao_Pos/'+image+'.png', 0)\n",
        "    return img\n",
        "\n",
        "def carrega_Resultados_Pre_binarizacao_Pos(image):\n",
        "    img = cv.imread('/content/drive/My Drive/PH2_TCC/Resultados_Pre_binarizacao_Pos/'+image+'.png', 0)\n",
        "    return img\n",
        "\n",
        "def carrega_Resultados_Pre_binarizacao_NPos(image):\n",
        "    img = cv.imread('/content/drive/My Drive/PH2_TCC/Resultados_Pre_binarizacao_NPos/'+image+'.png', 0)\n",
        "    return img\n",
        "\n",
        "def carrega_Resultados_NPre_binarizacao_NPos(image):\n",
        "    img = cv.imread('/content/drive/My Drive/PH2_TCC/Resultados_NPre_binarizacao_NPos/'+image+'.png', 0)\n",
        "    return img\n",
        "\n",
        "def carrega_Resultados_tudo_branco(image):\n",
        "    img = cv.imread('/content/drive/My Drive/PH2_TCC/Resultados_tudo_branco/'+image+'.png', 0)\n",
        "    return img\n",
        "\n",
        "def carrega_Resultados_tudo_preto(image):\n",
        "    img = cv.imread('/content/drive/My Drive/PH2_TCC/Resultados_tudo_preto/'+image+'.png', 0)\n",
        "    return img\n",
        "\n",
        "def carrega_Resultados_tudo_com_filtro(image):\n",
        "    img = cv.imread('/content/drive/My Drive/PH2_TCC/Resultados_tudo_com_filtro/'+image+'.png', 0)\n",
        "    return img\n",
        "\n",
        "def carrega_Resultados_NPre_binarizacao_adptativa_gauss_Pos(image):\n",
        "    img = cv.imread('/content/drive/My Drive/PH2_TCC/Resultados_NPre_binarizacao_adptativa_gauss_Pos/'+image+'.png', 0)\n",
        "    return img\n",
        "\n",
        "def carrega_Resultados_Pre_binarizacao_adptativa_gauss_Pos(image):\n",
        "    img = cv.imread('/content/drive/My Drive/PH2_TCC/Resultados_Pre_binarizacao_adptativa_gauss_Pos/'+image+'.png', 0)\n",
        "    return img\n",
        "\n",
        "def carrega_Resultados_Pre_binarizacao_adptativa_gauss_NPos(image):\n",
        "    img = cv.imread('/content/drive/My Drive/PH2_TCC/Resultados_Pre_binarizacao_adptativa_gauss_NPos/'+image+'.png', 0)\n",
        "    return img\n",
        "\n",
        "def carrega_Resultados_NPre_binarizacao_adptativa_gauss_NPos(image):\n",
        "    img = cv.imread('/content/drive/My Drive/PH2_TCC/Resultados_NPre_binarizacao_adptativa_gauss_NPos/'+image+'.png', 0)\n",
        "    return img\n",
        "\n",
        "def carrega_Resultados_NPre_binarizacao_adptativa_mean_Pos(image):\n",
        "    img = cv.imread('/content/drive/My Drive/PH2_TCC/Resultados_NPre_binarizacao_adptativa_mean_Pos/'+image+'.png', 0)\n",
        "    return img\n",
        "\n",
        "def carrega_Resultados_Pre_binarizacao_adptativa_mean_Pos(image):\n",
        "    img = cv.imread('/content/drive/My Drive/PH2_TCC/Resultados_Pre_binarizacao_adptativa_mean_Pos/'+image+'.png', 0)\n",
        "    return img\n",
        "\n",
        "def carrega_Resultados_Pre_binarizacao_adptativa_mean_NPos(image):\n",
        "    img = cv.imread('/content/drive/My Drive/PH2_TCC/Resultados_Pre_binarizacao_adptativa_mean_NPos/'+image+'.png', 0)\n",
        "    return img\n",
        "\n",
        "def carrega_Resultados_NPre_binarizacao_adptativa_mean_NPos(image):\n",
        "    img = cv.imread('/content/drive/My Drive/PH2_TCC/Resultados_NPre_binarizacao_adptativa_mean_NPos/'+image+'.png', 0)\n",
        "    return img\n",
        "\n",
        "def carrega_Resultados_NPre_crescimento_de_regiao_Pos(image):\n",
        "    img = cv.imread('/content/drive/My Drive/PH2_TCC/Resultados_NPre_crescimento_de_regiao_Pos/'+image+'.png', 0)\n",
        "    return img\n",
        "\n",
        "def carrega_Resultados_Pre_crescimento_de_regiao_Pos(image):\n",
        "    img = cv.imread('/content/drive/My Drive/PH2_TCC/Resultados_Pre_crescimento_de_regiao_Pos/'+image+'.png', 0)\n",
        "    return img\n",
        "\n",
        "def carrega_Resultados_Pre_crescimento_de_regiao_NPos(image):\n",
        "    img = cv.imread('/content/drive/My Drive/PH2_TCC/Resultados_Pre_crescimento_de_regiao_NPos/'+image+'.png', 0)\n",
        "    return img\n",
        "\n",
        "def carrega_Resultados_NPre_crescimento_de_regiao_NPos(image):\n",
        "    img = cv.imread('/content/drive/My Drive/PH2_TCC/Resultados_NPre_crescimento_de_regiao_NPos/'+image+'.png', 0)\n",
        "    return img\n"
      ],
      "execution_count": 5,
      "outputs": []
    },
    {
      "cell_type": "markdown",
      "metadata": {
        "id": "89Ow2R5KOyss"
      },
      "source": [
        "# JACCARD E DICE"
      ]
    },
    {
      "cell_type": "markdown",
      "metadata": {
        "id": "O03fj2C31ehY"
      },
      "source": [
        "## Métodos"
      ]
    },
    {
      "cell_type": "code",
      "metadata": {
        "id": "NS4cPOnDMXde"
      },
      "source": [
        "# JACCARD E DICE\n",
        "\n",
        "#jaccard(A,B) = TP / (TP + FP + FN)\n",
        "def jaccard_TF(A, B):\n",
        "    TP = 0\n",
        "    FP = 0\n",
        "    FN = 0\n",
        "\n",
        "    li, co = A.shape\n",
        "\n",
        "    for l in range(0,li):\n",
        "        for c in range(0,co):\n",
        "            if A[l,c] == B[l,c]: \n",
        "                if A[l,c] == 255:\n",
        "                    TP = TP + 1\n",
        "            else: \n",
        "                if A[l,c] == 255:\n",
        "                    FN = FN+1\n",
        "                else:\n",
        "                    FP = FP+1\n",
        "\n",
        "    jaccard =  TP / (TP + FP + FN)\n",
        "\n",
        "    return jaccard\n",
        "\n",
        "#dice(A,B) = 2TP / (2TP + FP + FN)\n",
        "def dice_TF(A, B):\n",
        "    TP = 0\n",
        "    FP = 0\n",
        "    FN = 0\n",
        "\n",
        "    li, co = A.shape\n",
        "\n",
        "    for l in range(0,li):\n",
        "        for c in range(0,co):\n",
        "            if A[l,c] == B[l,c]: \n",
        "                if A[l,c] == 255:\n",
        "                    TP = TP + 1\n",
        "            else: \n",
        "                if A[l,c] == 255:\n",
        "                    FN = FN+1\n",
        "                else:\n",
        "                    FP = FP+1\n",
        "\n",
        "    dice =  (2*TP) / ((2*TP) + FP + FN)\n",
        "    return dice\n"
      ],
      "execution_count": 6,
      "outputs": []
    },
    {
      "cell_type": "markdown",
      "metadata": {
        "id": "1VLIfHo81MvB"
      },
      "source": [
        "## Kmeans"
      ]
    },
    {
      "cell_type": "code",
      "metadata": {
        "id": "krgwc4fMQx8F"
      },
      "source": [
        "def Jaccard_kmeans_array(imagens, tipo=0): \n",
        "    leng = len(imagens)\n",
        "    jacc = np.zeros(leng)\n",
        "    cont = 0\n",
        "    if tipo == 0:\n",
        "        for img_nome in imagens:\n",
        "            print(img_nome+' ...')\n",
        "            B = carrega_Resultados_Pre_kmeans_Pos(img_nome)\n",
        "            A = carrega_imagem_lesion(img_nome)\n",
        "            j = jaccard_TF(A,B)\n",
        "            jacc[cont] = j\n",
        "            cont = cont+1\n",
        "        \n",
        "    elif tipo == 1:\n",
        "        for img_nome in imagens:\n",
        "            print(img_nome+' ...')\n",
        "            B = carrega_Resultados_NPre_kmeans_Pos(img_nome)\n",
        "            A = carrega_imagem_lesion(img_nome)\n",
        "            j = jaccard_TF(A,B)\n",
        "            jacc[cont] = j\n",
        "            cont = cont+1\n",
        "\n",
        "    elif tipo == 2:\n",
        "        for img_nome in imagens:\n",
        "            print(img_nome+' ...')\n",
        "            B = carrega_Resultados_Pre_kmeans_NPos(img_nome)\n",
        "            A = carrega_imagem_lesion(img_nome)\n",
        "            j = jaccard_TF(A,B)\n",
        "            jacc[cont] = j\n",
        "            cont = cont+1\n",
        "\n",
        "    elif tipo == 3:\n",
        "        for img_nome in imagens:\n",
        "            print(img_nome+' ...')\n",
        "            B = carrega_Resultados_NPre_kmeans_NPos(img_nome)\n",
        "            A = carrega_imagem_lesion(img_nome)\n",
        "            j = jaccard_TF(A,B)\n",
        "            jacc[cont] = j\n",
        "            cont = cont+1\n",
        "\n",
        "    clear_output() \n",
        "    return jacc"
      ],
      "execution_count": 7,
      "outputs": []
    },
    {
      "cell_type": "code",
      "metadata": {
        "id": "OYkx2d1XXvdW"
      },
      "source": [
        "def Dice_kmeans_array(imagens, tipo=0): \n",
        "    leng = len(imagens)\n",
        "    dice = np.zeros(leng)\n",
        "    cont = 0\n",
        "    if tipo == 0:\n",
        "        for img_nome in imagens:\n",
        "            print(img_nome+' ...')\n",
        "            B = carrega_Resultados_Pre_kmeans_Pos(img_nome)\n",
        "            A = carrega_imagem_lesion(img_nome)\n",
        "            d = dice_TF(A,B)\n",
        "            dice[cont] = d\n",
        "            cont = cont+1\n",
        "        \n",
        "    elif tipo == 1:\n",
        "        for img_nome in imagens:\n",
        "            print(img_nome+' ...')\n",
        "            B = carrega_Resultados_NPre_kmeans_Pos(img_nome)\n",
        "            A = carrega_imagem_lesion(img_nome)\n",
        "            d = dice_TF(A,B)\n",
        "            dice[cont] = d\n",
        "            cont = cont+1\n",
        "\n",
        "    elif tipo == 2:\n",
        "        for img_nome in imagens:\n",
        "            print(img_nome+' ...')\n",
        "            B = carrega_Resultados_Pre_kmeans_NPos(img_nome)\n",
        "            A = carrega_imagem_lesion(img_nome)\n",
        "            d = dice_TF(A,B)\n",
        "            dice[cont] = d\n",
        "            cont = cont+1\n",
        "\n",
        "    elif tipo == 3:\n",
        "        for img_nome in imagens:\n",
        "            print(img_nome+' ...')\n",
        "            B = carrega_Resultados_NPre_kmeans_NPos(img_nome)\n",
        "            A = carrega_imagem_lesion(img_nome)\n",
        "            d = dice_TF(A,B)\n",
        "            dice[cont] = d\n",
        "            cont = cont+1\n",
        "\n",
        "    clear_output()        \n",
        "    return dice      "
      ],
      "execution_count": 8,
      "outputs": []
    },
    {
      "cell_type": "markdown",
      "metadata": {
        "id": "BfVR0Jv01PvA"
      },
      "source": [
        "## OTSU"
      ]
    },
    {
      "cell_type": "code",
      "metadata": {
        "id": "c18lutfiVK0g"
      },
      "source": [
        "def Jaccard_otsu_array(imagens, tipo=0): \n",
        "    leng = len(imagens)\n",
        "    jacc = np.zeros(leng)\n",
        "    cont = 0\n",
        "    if tipo == 0:\n",
        "        for img_nome in imagens:\n",
        "            print(img_nome+' ...')\n",
        "            B = carrega_Resultados_Pre_Otsu_Pos(img_nome)\n",
        "            A = carrega_imagem_lesion(img_nome)\n",
        "            j = jaccard_TF(A,B)\n",
        "            jacc[cont] = j\n",
        "            cont = cont+1\n",
        "\n",
        "    elif tipo == 1:\n",
        "        for img_nome in imagens:\n",
        "            print(img_nome+' ...')\n",
        "            B = carrega_Resultados_NPre_Otsu_Pos(img_nome)\n",
        "            A = carrega_imagem_lesion(img_nome)\n",
        "            j = jaccard_TF(A,B)\n",
        "            jacc[cont] = j\n",
        "            cont = cont+1\n",
        "\n",
        "    elif tipo == 2:\n",
        "        for img_nome in imagens:\n",
        "            print(img_nome+' ...')\n",
        "            B = carrega_Resultados_Pre_Otsu_NPos(img_nome)\n",
        "            A = carrega_imagem_lesion(img_nome)\n",
        "            j = jaccard_TF(A,B)\n",
        "            jacc[cont] = j\n",
        "            cont = cont+1\n",
        "\n",
        "    elif tipo == 3:\n",
        "        for img_nome in imagens:\n",
        "            print(img_nome+' ...')\n",
        "            B = carrega_Resultados_NPre_Otsu_NPos(img_nome)\n",
        "            A = carrega_imagem_lesion(img_nome)\n",
        "            j = jaccard_TF(A,B)\n",
        "            jacc[cont] = j\n",
        "            cont = cont+1\n",
        "\n",
        "    clear_output() \n",
        "    return jacc"
      ],
      "execution_count": 9,
      "outputs": []
    },
    {
      "cell_type": "code",
      "metadata": {
        "id": "QOUFMqcHVORo"
      },
      "source": [
        "def Dice_otsu_array(imagens, tipo=0): \n",
        "    leng = len(imagens)\n",
        "    dice = np.zeros(leng)\n",
        "    cont = 0\n",
        "    if tipo == 0:\n",
        "        for img_nome in imagens:\n",
        "            print(img_nome+' ...')\n",
        "            B = carrega_Resultados_Pre_Otsu_Pos(img_nome)\n",
        "            A = carrega_imagem_lesion(img_nome)\n",
        "            d = dice_TF(A,B)\n",
        "            dice[cont] = d\n",
        "            cont = cont+1\n",
        "\n",
        "    elif tipo == 1:\n",
        "        for img_nome in imagens:\n",
        "            print(img_nome+' ...')\n",
        "            B = carrega_Resultados_NPre_Otsu_Pos(img_nome)\n",
        "            A = carrega_imagem_lesion(img_nome)\n",
        "            d = dice_TF(A,B)\n",
        "            dice[cont] = d\n",
        "            cont = cont+1\n",
        "\n",
        "    elif tipo == 2:\n",
        "        for img_nome in imagens:\n",
        "            print(img_nome+' ...')\n",
        "            B = carrega_Resultados_Pre_Otsu_NPos(img_nome)\n",
        "            A = carrega_imagem_lesion(img_nome)\n",
        "            d = dice_TF(A,B)\n",
        "            dice[cont] = d\n",
        "            cont = cont+1\n",
        "\n",
        "    elif tipo == 3:\n",
        "        for img_nome in imagens:\n",
        "            print(img_nome+' ...')\n",
        "            B = carrega_Resultados_NPre_Otsu_NPos(img_nome)\n",
        "            A = carrega_imagem_lesion(img_nome)\n",
        "            d = dice_TF(A,B)\n",
        "            dice[cont] = d\n",
        "            cont = cont+1\n",
        "\n",
        "    clear_output()        \n",
        "    return dice     "
      ],
      "execution_count": 10,
      "outputs": []
    },
    {
      "cell_type": "markdown",
      "metadata": {
        "id": "wx4S-lG81TZW"
      },
      "source": [
        "## Binarizacao"
      ]
    },
    {
      "cell_type": "code",
      "metadata": {
        "id": "oeMFqZLZffrh"
      },
      "source": [
        "def Jaccard_binarizacao_array(imagens, tipo=0): \n",
        "    leng = len(imagens)\n",
        "    jacc = np.zeros(leng)\n",
        "    cont = 0\n",
        "    if tipo == 0:\n",
        "        for img_nome in imagens:\n",
        "            print(img_nome+' ...')\n",
        "            B = carrega_Resultados_Pre_binarizacao_Pos(img_nome)\n",
        "            A = carrega_imagem_lesion(img_nome)\n",
        "            j = jaccard_TF(A,B)\n",
        "            jacc[cont] = j\n",
        "            cont = cont+1\n",
        "\n",
        "    elif tipo == 1:\n",
        "        for img_nome in imagens:\n",
        "            print(img_nome+' ...')\n",
        "            B = carrega_Resultados_NPre_binarizacao_Pos(img_nome)\n",
        "            A = carrega_imagem_lesion(img_nome)\n",
        "            j = jaccard_TF(A,B)\n",
        "            jacc[cont] = j\n",
        "            cont = cont+1\n",
        "\n",
        "    elif tipo == 2:\n",
        "        for img_nome in imagens:\n",
        "            print(img_nome+' ...')\n",
        "            B = carrega_Resultados_Pre_binarizacao_NPos(img_nome)\n",
        "            A = carrega_imagem_lesion(img_nome)\n",
        "            j = jaccard_TF(A,B)\n",
        "            jacc[cont] = j\n",
        "            cont = cont+1\n",
        "\n",
        "    elif tipo == 3:\n",
        "        for img_nome in imagens:\n",
        "            print(img_nome+' ...')\n",
        "            B = carrega_Resultados_NPre_binarizacao_NPos(img_nome)\n",
        "            A = carrega_imagem_lesion(img_nome)\n",
        "            j = jaccard_TF(A,B)\n",
        "            jacc[cont] = j\n",
        "            cont = cont+1\n",
        "\n",
        "    clear_output() \n",
        "    return jacc"
      ],
      "execution_count": 11,
      "outputs": []
    },
    {
      "cell_type": "code",
      "metadata": {
        "id": "S-_HFvNcf3Fa"
      },
      "source": [
        "def Dice_binarizacao_array(imagens, tipo=0): \n",
        "    leng = len(imagens)\n",
        "    dice = np.zeros(leng)\n",
        "    cont = 0\n",
        "    if tipo == 0:\n",
        "        for img_nome in imagens:\n",
        "            print(img_nome+' ...')\n",
        "            B = carrega_Resultados_Pre_binarizacao_Pos(img_nome)\n",
        "            A = carrega_imagem_lesion(img_nome)\n",
        "            d = dice_TF(A,B)\n",
        "            dice[cont] = d\n",
        "            cont = cont+1\n",
        "\n",
        "    elif tipo == 1:\n",
        "        for img_nome in imagens:\n",
        "            print(img_nome+' ...')\n",
        "            B = carrega_Resultados_NPre_binarizacao_Pos(img_nome)\n",
        "            A = carrega_imagem_lesion(img_nome)\n",
        "            d = dice_TF(A,B)\n",
        "            dice[cont] = d\n",
        "            cont = cont+1\n",
        "\n",
        "    elif tipo == 2:\n",
        "        for img_nome in imagens:\n",
        "            print(img_nome+' ...')\n",
        "            B = carrega_Resultados_Pre_binarizacao_NPos(img_nome)\n",
        "            A = carrega_imagem_lesion(img_nome)\n",
        "            d = dice_TF(A,B)\n",
        "            dice[cont] = d\n",
        "            cont = cont+1\n",
        "\n",
        "    elif tipo == 3:\n",
        "        for img_nome in imagens:\n",
        "            print(img_nome+' ...')\n",
        "            B = carrega_Resultados_NPre_binarizacao_NPos(img_nome)\n",
        "            A = carrega_imagem_lesion(img_nome)\n",
        "            d = dice_TF(A,B)\n",
        "            dice[cont] = d\n",
        "            cont = cont+1\n",
        "\n",
        "    clear_output()        \n",
        "    return dice     \n"
      ],
      "execution_count": 12,
      "outputs": []
    },
    {
      "cell_type": "markdown",
      "metadata": {
        "id": "NkdjEF-V_8l9"
      },
      "source": [
        "## Bin Adap Gauss"
      ]
    },
    {
      "cell_type": "code",
      "metadata": {
        "id": "Il_C9eeLAENK"
      },
      "source": [
        "def Jaccard_binarizacao_adptativa_gauss_array(imagens, tipo=0): \n",
        "    leng = len(imagens)\n",
        "    jacc = np.zeros(leng)\n",
        "    cont = 0\n",
        "    if tipo == 0:\n",
        "        for img_nome in imagens:\n",
        "            print(img_nome+' ...')\n",
        "            B = carrega_Resultados_Pre_binarizacao_adptativa_gauss_Pos(img_nome)\n",
        "            A = carrega_imagem_lesion(img_nome)\n",
        "            j = jaccard_TF(A,B)\n",
        "            jacc[cont] = j\n",
        "            cont = cont+1\n",
        "\n",
        "    elif tipo == 1:\n",
        "        for img_nome in imagens:\n",
        "            print(img_nome+' ...')\n",
        "            B = carrega_Resultados_NPre_binarizacao_adptativa_gauss_Pos(img_nome)\n",
        "            A = carrega_imagem_lesion(img_nome)\n",
        "            j = jaccard_TF(A,B)\n",
        "            jacc[cont] = j\n",
        "            cont = cont+1\n",
        "\n",
        "    elif tipo == 2:\n",
        "        for img_nome in imagens:\n",
        "            print(img_nome+' ...')\n",
        "            B = carrega_Resultados_Pre_binarizacao_adptativa_gauss_NPos(img_nome)\n",
        "            A = carrega_imagem_lesion(img_nome)\n",
        "            j = jaccard_TF(A,B)\n",
        "            jacc[cont] = j\n",
        "            cont = cont+1\n",
        "\n",
        "    elif tipo == 3:\n",
        "        for img_nome in imagens:\n",
        "            print(img_nome+' ...')\n",
        "            B = carrega_Resultados_NPre_binarizacao_adptativa_gauss_NPos(img_nome)\n",
        "            A = carrega_imagem_lesion(img_nome)\n",
        "            j = jaccard_TF(A,B)\n",
        "            jacc[cont] = j\n",
        "            cont = cont+1\n",
        "\n",
        "    clear_output() \n",
        "    return jacc"
      ],
      "execution_count": 13,
      "outputs": []
    },
    {
      "cell_type": "code",
      "metadata": {
        "id": "xjRiwUeFAHVb"
      },
      "source": [
        "def Dice_binarizacao_adptativa_gauss_array(imagens, tipo=0): \n",
        "    leng = len(imagens)\n",
        "    dice = np.zeros(leng)\n",
        "    cont = 0\n",
        "    if tipo == 0:\n",
        "        for img_nome in imagens:\n",
        "            print(img_nome+' ...')\n",
        "            B = carrega_Resultados_Pre_binarizacao_adptativa_gauss_Pos(img_nome)\n",
        "            A = carrega_imagem_lesion(img_nome)\n",
        "            d = dice_TF(A,B)\n",
        "            dice[cont] = d\n",
        "            cont = cont+1\n",
        "\n",
        "    elif tipo == 1:\n",
        "        for img_nome in imagens:\n",
        "            print(img_nome+' ...')\n",
        "            B = carrega_Resultados_NPre_binarizacao_adptativa_gauss_Pos(img_nome)\n",
        "            A = carrega_imagem_lesion(img_nome)\n",
        "            d = dice_TF(A,B)\n",
        "            dice[cont] = d\n",
        "            cont = cont+1\n",
        "\n",
        "    elif tipo == 2:\n",
        "        for img_nome in imagens:\n",
        "            print(img_nome+' ...')\n",
        "            B = carrega_Resultados_Pre_binarizacao_adptativa_gauss_NPos(img_nome)\n",
        "            A = carrega_imagem_lesion(img_nome)\n",
        "            d = dice_TF(A,B)\n",
        "            dice[cont] = d\n",
        "            cont = cont+1\n",
        "\n",
        "    elif tipo == 3:\n",
        "        for img_nome in imagens:\n",
        "            print(img_nome+' ...')\n",
        "            B = carrega_Resultados_NPre_binarizacao_adptativa_gauss_NPos(img_nome)\n",
        "            A = carrega_imagem_lesion(img_nome)\n",
        "            d = dice_TF(A,B)\n",
        "            dice[cont] = d\n",
        "            cont = cont+1\n",
        "\n",
        "    clear_output()        \n",
        "    return dice     \n"
      ],
      "execution_count": 14,
      "outputs": []
    },
    {
      "cell_type": "markdown",
      "metadata": {
        "id": "cEzqfL61Ocpd"
      },
      "source": [
        "## Bin Adap Mean"
      ]
    },
    {
      "cell_type": "code",
      "metadata": {
        "id": "1FFUcPRYOf6i"
      },
      "source": [
        "def Jaccard_binarizacao_adptativa_mean_array(imagens, tipo=0): \n",
        "    leng = len(imagens)\n",
        "    jacc = np.zeros(leng)\n",
        "    cont = 0\n",
        "    if tipo == 0:\n",
        "        for img_nome in imagens:\n",
        "            print(img_nome+' ...')\n",
        "            B = carrega_Resultados_Pre_binarizacao_adptativa_mean_Pos(img_nome)\n",
        "            A = carrega_imagem_lesion(img_nome)\n",
        "            j = jaccard_TF(A,B)\n",
        "            jacc[cont] = j\n",
        "            cont = cont+1\n",
        "\n",
        "    elif tipo == 1:\n",
        "        for img_nome in imagens:\n",
        "            print(img_nome+' ...')\n",
        "            B = carrega_Resultados_NPre_binarizacao_adptativa_mean_Pos(img_nome)\n",
        "            A = carrega_imagem_lesion(img_nome)\n",
        "            j = jaccard_TF(A,B)\n",
        "            jacc[cont] = j\n",
        "            cont = cont+1\n",
        "\n",
        "    elif tipo == 2:\n",
        "        for img_nome in imagens:\n",
        "            print(img_nome+' ...')\n",
        "            B = carrega_Resultados_Pre_binarizacao_adptativa_mean_NPos(img_nome)\n",
        "            A = carrega_imagem_lesion(img_nome)\n",
        "            j = jaccard_TF(A,B)\n",
        "            jacc[cont] = j\n",
        "            cont = cont+1\n",
        "\n",
        "    elif tipo == 3:\n",
        "        for img_nome in imagens:\n",
        "            print(img_nome+' ...')\n",
        "            B = carrega_Resultados_NPre_binarizacao_adptativa_mean_NPos(img_nome)\n",
        "            A = carrega_imagem_lesion(img_nome)\n",
        "            j = jaccard_TF(A,B)\n",
        "            jacc[cont] = j\n",
        "            cont = cont+1\n",
        "\n",
        "    clear_output() \n",
        "    return jacc"
      ],
      "execution_count": 15,
      "outputs": []
    },
    {
      "cell_type": "code",
      "metadata": {
        "id": "v_jNxIoiOidP"
      },
      "source": [
        "def Dice_binarizacao_adptativa_mean_array(imagens, tipo=0): \n",
        "    leng = len(imagens)\n",
        "    dice = np.zeros(leng)\n",
        "    cont = 0\n",
        "    if tipo == 0:\n",
        "        for img_nome in imagens:\n",
        "            print(img_nome+' ...')\n",
        "            B = carrega_Resultados_Pre_binarizacao_adptativa_mean_Pos(img_nome)\n",
        "            A = carrega_imagem_lesion(img_nome)\n",
        "            d = dice_TF(A,B)\n",
        "            dice[cont] = d\n",
        "            cont = cont+1\n",
        "\n",
        "    elif tipo == 1:\n",
        "        for img_nome in imagens:\n",
        "            print(img_nome+' ...')\n",
        "            B = carrega_Resultados_NPre_binarizacao_adptativa_mean_Pos(img_nome)\n",
        "            A = carrega_imagem_lesion(img_nome)\n",
        "            d = dice_TF(A,B)\n",
        "            dice[cont] = d\n",
        "            cont = cont+1\n",
        "\n",
        "    elif tipo == 2:\n",
        "        for img_nome in imagens:\n",
        "            print(img_nome+' ...')\n",
        "            B = carrega_Resultados_Pre_binarizacao_adptativa_mean_NPos(img_nome)\n",
        "            A = carrega_imagem_lesion(img_nome)\n",
        "            d = dice_TF(A,B)\n",
        "            dice[cont] = d\n",
        "            cont = cont+1\n",
        "\n",
        "    elif tipo == 3:\n",
        "        for img_nome in imagens:\n",
        "            print(img_nome+' ...')\n",
        "            B = carrega_Resultados_NPre_binarizacao_adptativa_mean_NPos(img_nome)\n",
        "            A = carrega_imagem_lesion(img_nome)\n",
        "            d = dice_TF(A,B)\n",
        "            dice[cont] = d\n",
        "            cont = cont+1\n",
        "\n",
        "    clear_output()        \n",
        "    return dice     "
      ],
      "execution_count": 16,
      "outputs": []
    },
    {
      "cell_type": "markdown",
      "metadata": {
        "id": "gZ-tIs-8vgX-"
      },
      "source": [
        "## Crescimento de região"
      ]
    },
    {
      "cell_type": "code",
      "metadata": {
        "id": "E8W0bypNvjOT"
      },
      "source": [
        "def Jaccard_crescimento_de_regiao_array(imagens, tipo=0): \n",
        "    leng = len(imagens)\n",
        "    jacc = np.zeros(leng)\n",
        "    cont = 0\n",
        "    if tipo == 0:\n",
        "        for img_nome in imagens:\n",
        "            print(img_nome+' ...')\n",
        "            B = carrega_Resultados_Pre_crescimento_de_regiao_Pos(img_nome)\n",
        "            A = carrega_imagem_lesion(img_nome)\n",
        "            j = jaccard_TF(A,B)\n",
        "            jacc[cont] = j\n",
        "            cont = cont+1\n",
        "\n",
        "    elif tipo == 1:\n",
        "        for img_nome in imagens:\n",
        "            print(img_nome+' ...')\n",
        "            B = carrega_Resultados_NPre_crescimento_de_regiao_Pos(img_nome)\n",
        "            A = carrega_imagem_lesion(img_nome)\n",
        "            j = jaccard_TF(A,B)\n",
        "            jacc[cont] = j\n",
        "            cont = cont+1\n",
        "\n",
        "    elif tipo == 2:\n",
        "        for img_nome in imagens:\n",
        "            print(img_nome+' ...')\n",
        "            B = carrega_Resultados_Pre_crescimento_de_regiao_NPos(img_nome)\n",
        "            A = carrega_imagem_lesion(img_nome)\n",
        "            j = jaccard_TF(A,B)\n",
        "            jacc[cont] = j\n",
        "            cont = cont+1\n",
        "\n",
        "    elif tipo == 3:\n",
        "        for img_nome in imagens:\n",
        "            print(img_nome+' ...')\n",
        "            B = carrega_Resultados_NPre_crescimento_de_regiao_NPos(img_nome)\n",
        "            A = carrega_imagem_lesion(img_nome)\n",
        "            j = jaccard_TF(A,B)\n",
        "            jacc[cont] = j\n",
        "            cont = cont+1\n",
        "\n",
        "    clear_output() \n",
        "    return jacc"
      ],
      "execution_count": 17,
      "outputs": []
    },
    {
      "cell_type": "code",
      "metadata": {
        "id": "men5fScovrso"
      },
      "source": [
        "def Dice_crescimento_de_regiao_array(imagens, tipo=0): \n",
        "    leng = len(imagens)\n",
        "    dice = np.zeros(leng)\n",
        "    cont = 0\n",
        "    if tipo == 0:\n",
        "        for img_nome in imagens:\n",
        "            print(img_nome+' ...')\n",
        "            B = carrega_Resultados_Pre_crescimento_de_regiao_Pos(img_nome)\n",
        "            A = carrega_imagem_lesion(img_nome)\n",
        "            d = dice_TF(A,B)\n",
        "            dice[cont] = d\n",
        "            cont = cont+1\n",
        "\n",
        "    elif tipo == 1:\n",
        "        for img_nome in imagens:\n",
        "            print(img_nome+' ...')\n",
        "            B = carrega_Resultados_NPre_crescimento_de_regiao_Pos(img_nome)\n",
        "            A = carrega_imagem_lesion(img_nome)\n",
        "            d = dice_TF(A,B)\n",
        "            dice[cont] = d\n",
        "            cont = cont+1\n",
        "\n",
        "    elif tipo == 2:\n",
        "        for img_nome in imagens:\n",
        "            print(img_nome+' ...')\n",
        "            B = carrega_Resultados_Pre_crescimento_de_regiao_NPos(img_nome)\n",
        "            A = carrega_imagem_lesion(img_nome)\n",
        "            d = dice_TF(A,B)\n",
        "            dice[cont] = d\n",
        "            cont = cont+1\n",
        "\n",
        "    elif tipo == 3:\n",
        "        for img_nome in imagens:\n",
        "            print(img_nome+' ...')\n",
        "            B = carrega_Resultados_NPre_crescimento_de_regiao_NPos(img_nome)\n",
        "            A = carrega_imagem_lesion(img_nome)\n",
        "            d = dice_TF(A,B)\n",
        "            dice[cont] = d\n",
        "            cont = cont+1\n",
        "\n",
        "    clear_output()        \n",
        "    return dice     "
      ],
      "execution_count": 18,
      "outputs": []
    },
    {
      "cell_type": "markdown",
      "metadata": {
        "id": "GP78fb1p1YIw"
      },
      "source": [
        "## Controle: "
      ]
    },
    {
      "cell_type": "code",
      "metadata": {
        "id": "Uku2hXkHvAPo"
      },
      "source": [
        "def Jaccard_tudo_branco_array(imagens, tipo=0): \n",
        "    leng = len(imagens)\n",
        "    jacc = np.zeros(leng)\n",
        "    cont = 0\n",
        "    if tipo == 0:\n",
        "        for img_nome in imagens:\n",
        "            print(img_nome+' ...')\n",
        "            B = carrega_Resultados_tudo_branco(img_nome)\n",
        "            A = carrega_imagem_lesion(img_nome)\n",
        "            j = jaccard_TF(A,B)\n",
        "            jacc[cont] = j\n",
        "            cont = cont+1\n",
        "\n",
        "    clear_output() \n",
        "    return jacc"
      ],
      "execution_count": 19,
      "outputs": []
    },
    {
      "cell_type": "code",
      "metadata": {
        "id": "V85DHBHgwQnx"
      },
      "source": [
        "def Dice_tudo_branco_array(imagens, tipo=0): \n",
        "    leng = len(imagens)\n",
        "    dice = np.zeros(leng)\n",
        "    cont = 0\n",
        "    if tipo == 0:\n",
        "        for img_nome in imagens:\n",
        "            print(img_nome+' ...')\n",
        "            B = carrega_Resultados_tudo_branco(img_nome)\n",
        "            A = carrega_imagem_lesion(img_nome)\n",
        "            d = dice_TF(A,B)\n",
        "            dice[cont] = d\n",
        "            cont = cont+1\n",
        "\n",
        "    clear_output()        \n",
        "    return dice     \n"
      ],
      "execution_count": 20,
      "outputs": []
    },
    {
      "cell_type": "code",
      "metadata": {
        "id": "_pO9mFOgxmaw"
      },
      "source": [
        "def Jaccard_tudo_preto_array(imagens, tipo=0): \n",
        "    leng = len(imagens)\n",
        "    jacc = np.zeros(leng)\n",
        "    cont = 0\n",
        "    if tipo == 0:\n",
        "        for img_nome in imagens:\n",
        "            print(img_nome+' ...')\n",
        "            B = carrega_Resultados_tudo_preto(img_nome)\n",
        "            A = carrega_imagem_lesion(img_nome)\n",
        "            j = jaccard_TF(A,B)\n",
        "            jacc[cont] = j\n",
        "            cont = cont+1\n",
        "\n",
        "    clear_output() \n",
        "    return jacc"
      ],
      "execution_count": 21,
      "outputs": []
    },
    {
      "cell_type": "code",
      "metadata": {
        "id": "miIQCgNlxqUL"
      },
      "source": [
        "def Dice_tudo_preto_array(imagens, tipo=0): \n",
        "    leng = len(imagens)\n",
        "    dice = np.zeros(leng)\n",
        "    cont = 0\n",
        "    if tipo == 0:\n",
        "        for img_nome in imagens:\n",
        "            print(img_nome+' ...')\n",
        "            B = carrega_Resultados_tudo_preto(img_nome)\n",
        "            A = carrega_imagem_lesion(img_nome)\n",
        "            d = dice_TF(A,B)\n",
        "            dice[cont] = d\n",
        "            cont = cont+1\n",
        "\n",
        "    clear_output()        \n",
        "    return dice     \n"
      ],
      "execution_count": 22,
      "outputs": []
    },
    {
      "cell_type": "code",
      "metadata": {
        "id": "56L97nQcyTCQ"
      },
      "source": [
        "def Jaccard_tudo_com_filtro_array(imagens, tipo=0): \n",
        "    leng = len(imagens)\n",
        "    jacc = np.zeros(leng)\n",
        "    cont = 0\n",
        "    if tipo == 0:\n",
        "        for img_nome in imagens:\n",
        "            print(img_nome+' ...')\n",
        "            B = carrega_Resultados_tudo_com_filtro(img_nome)\n",
        "            A = carrega_imagem_lesion(img_nome)\n",
        "            j = jaccard_TF(A,B)\n",
        "            jacc[cont] = j\n",
        "            cont = cont+1\n",
        "\n",
        "    clear_output() \n",
        "    return jacc"
      ],
      "execution_count": 23,
      "outputs": []
    },
    {
      "cell_type": "code",
      "metadata": {
        "id": "KW1nihy7yT-T"
      },
      "source": [
        "def Dice_tudo_com_filtro_array(imagens, tipo=0): \n",
        "    leng = len(imagens)\n",
        "    dice = np.zeros(leng)\n",
        "    cont = 0\n",
        "    if tipo == 0:\n",
        "        for img_nome in imagens:\n",
        "            print(img_nome+' ...')\n",
        "            B = carrega_Resultados_tudo_com_filtro(img_nome)\n",
        "            A = carrega_imagem_lesion(img_nome)\n",
        "            d = dice_TF(A,B)\n",
        "            dice[cont] = d\n",
        "            cont = cont+1\n",
        "\n",
        "    clear_output()        \n",
        "    return dice     \n"
      ],
      "execution_count": 24,
      "outputs": []
    },
    {
      "cell_type": "markdown",
      "metadata": {
        "id": "KFM_owS_O-ZT"
      },
      "source": [
        "# Resultados"
      ]
    },
    {
      "cell_type": "code",
      "metadata": {
        "id": "vp_D5IGoKKwG"
      },
      "source": [
        "imagens = get_names_images()"
      ],
      "execution_count": 25,
      "outputs": []
    },
    {
      "cell_type": "markdown",
      "metadata": {
        "id": "_PU85FA80645"
      },
      "source": [
        "## Kmeans"
      ]
    },
    {
      "cell_type": "code",
      "metadata": {
        "id": "-4feItnJT8J4"
      },
      "source": [
        "# Resultados_Pre_kmeans_Pos\n",
        "kmeans_p_p_j = Jaccard_kmeans_array(imagens)\n",
        "\n",
        "salva_contexto(kmeans_p_p_j, 'kmeans_p_p_j', 'j')"
      ],
      "execution_count": 26,
      "outputs": []
    },
    {
      "cell_type": "code",
      "metadata": {
        "id": "bQuR0UnZXIpY"
      },
      "source": [
        "# Resultados_NPre_kmeans_Pos\n",
        "kmeans_np_p_j = Jaccard_kmeans_array(imagens, 1)\n",
        "\n",
        "salva_contexto(kmeans_np_p_j, 'kmeans_np_p_j', 'j')"
      ],
      "execution_count": 27,
      "outputs": []
    },
    {
      "cell_type": "code",
      "metadata": {
        "id": "DcJ6dZ_wXUDa"
      },
      "source": [
        "# Resultados_Pre_kmeans_NPos\n",
        "kmeans_p_np_j = Jaccard_kmeans_array(imagens, 2)\n",
        "\n",
        "salva_contexto(kmeans_p_np_j, 'kmeans_p_np_j', 'j')"
      ],
      "execution_count": 28,
      "outputs": []
    },
    {
      "cell_type": "code",
      "metadata": {
        "id": "DRbiQaAYXYo4"
      },
      "source": [
        "# Resultados_NPre_kmeans_NPos\n",
        "kmeans_np_np_j = Jaccard_kmeans_array(imagens, 3)\n",
        "\n",
        "salva_contexto(kmeans_np_np_j, 'kmeans_np_np_j', 'j')"
      ],
      "execution_count": 29,
      "outputs": []
    },
    {
      "cell_type": "code",
      "metadata": {
        "id": "StsqmejtYHpg"
      },
      "source": [
        "# Resultados_Pre_kmeans_Pos\n",
        "kmeans_p_p_d = Dice_kmeans_array(imagens)\n",
        "\n",
        "salva_contexto(kmeans_p_p_d, 'kmeans_p_p_d', 'd')"
      ],
      "execution_count": 30,
      "outputs": []
    },
    {
      "cell_type": "code",
      "metadata": {
        "id": "nKK0cbT2YOzr"
      },
      "source": [
        "# Resultados_NPre_kmeans_Pos\n",
        "kmeans_np_p_d = Dice_kmeans_array(imagens, 1)\n",
        "\n",
        "salva_contexto(kmeans_np_p_d, 'kmeans_np_p_d', 'd')"
      ],
      "execution_count": 31,
      "outputs": []
    },
    {
      "cell_type": "code",
      "metadata": {
        "id": "d4bjMPV0YTCR"
      },
      "source": [
        "# Resultados_Pre_kmeans_NPos\n",
        "kmeans_p_np_d = Dice_kmeans_array(imagens, 2)\n",
        "\n",
        "salva_contexto(kmeans_p_np_d, 'kmeans_p_np_d', 'd')"
      ],
      "execution_count": 32,
      "outputs": []
    },
    {
      "cell_type": "code",
      "metadata": {
        "id": "LL7FpMF8YWz2"
      },
      "source": [
        "# Resultados_NPre_kmeans_Pos\n",
        "kmeans_np_np_d = Dice_kmeans_array(imagens, 3)\n",
        "\n",
        "salva_contexto(kmeans_np_np_d, 'kmeans_np_np_d', 'd')"
      ],
      "execution_count": 33,
      "outputs": []
    },
    {
      "cell_type": "markdown",
      "metadata": {
        "id": "wOFUINux1BQM"
      },
      "source": [
        "## OTSU"
      ]
    },
    {
      "cell_type": "code",
      "metadata": {
        "id": "lR1gVliNVU67"
      },
      "source": [
        "# Resultados_Pre_Otsu_Pos\n",
        "otsu_p_p_j = Jaccard_otsu_array(imagens)\n",
        "\n",
        "salva_contexto(otsu_p_p_j, 'otsu_p_p_j', 'j')"
      ],
      "execution_count": 34,
      "outputs": []
    },
    {
      "cell_type": "code",
      "metadata": {
        "id": "W4L1a9hvVWeI"
      },
      "source": [
        "# Resultados_NPre_Otsu_Pos\n",
        "otsu_np_p_j = Jaccard_otsu_array(imagens, 1)\n",
        "\n",
        "salva_contexto(otsu_np_p_j, 'otsu_np_p_j', 'j')"
      ],
      "execution_count": 35,
      "outputs": []
    },
    {
      "cell_type": "code",
      "metadata": {
        "id": "LEf9QuOpVX87"
      },
      "source": [
        "# Resultados_Pre_Otsu_NPos\n",
        "otsu_p_np_j = Jaccard_otsu_array(imagens, 2)\n",
        "\n",
        "salva_contexto(otsu_p_np_j, 'otsu_p_np_j', 'j')"
      ],
      "execution_count": 36,
      "outputs": []
    },
    {
      "cell_type": "code",
      "metadata": {
        "id": "-mGMeDiLVZaL"
      },
      "source": [
        "# Resultados_NPre_Otsu_NPos\n",
        "otsu_np_np_j = Jaccard_otsu_array(imagens, 3)\n",
        "\n",
        "salva_contexto(otsu_np_np_j, 'otsu_np_np_j', 'j')"
      ],
      "execution_count": 37,
      "outputs": []
    },
    {
      "cell_type": "code",
      "metadata": {
        "id": "wwXa-o86Vb2G"
      },
      "source": [
        "# Resultados_Pre_Otsu_Pos\n",
        "otsu_p_p_d = Dice_otsu_array(imagens)\n",
        "\n",
        "salva_contexto(otsu_p_p_d, 'otsu_p_p_d', 'd')"
      ],
      "execution_count": 38,
      "outputs": []
    },
    {
      "cell_type": "code",
      "metadata": {
        "id": "Mv7vmDGJVdPw"
      },
      "source": [
        "# Resultados_NPre_Otsu_Pos\n",
        "otsu_np_p_d = Dice_otsu_array(imagens, 1)\n",
        "\n",
        "salva_contexto(otsu_np_p_d, 'otsu_np_p_d', 'd')"
      ],
      "execution_count": 39,
      "outputs": []
    },
    {
      "cell_type": "code",
      "metadata": {
        "id": "3iiOI6IUVepP"
      },
      "source": [
        "# Resultados_Pre_Otsu_NPos\n",
        "otsu_p_np_d = Dice_otsu_array(imagens, 2)\n",
        "\n",
        "salva_contexto(otsu_p_np_d, 'otsu_p_np_d', 'd')"
      ],
      "execution_count": 40,
      "outputs": []
    },
    {
      "cell_type": "code",
      "metadata": {
        "id": "VzKWz7trVf1p"
      },
      "source": [
        "# Resultados_NPre_Otsu_NPos\n",
        "otsu_np_np_d = Dice_otsu_array(imagens, 3)\n",
        "\n",
        "salva_contexto(otsu_np_np_d, 'otsu_np_np_d', 'd')"
      ],
      "execution_count": 41,
      "outputs": []
    },
    {
      "cell_type": "markdown",
      "metadata": {
        "id": "VFdDMKVt1FTv"
      },
      "source": [
        "## Binarização "
      ]
    },
    {
      "cell_type": "code",
      "metadata": {
        "id": "3fxR5iX_gZIg"
      },
      "source": [
        "# Resultados_Pre_binarizacao_Pos\n",
        "bin_p_p_j = Jaccard_binarizacao_array(imagens)\n",
        "\n",
        "salva_contexto(bin_p_p_j, 'bin_p_p_j', 'j')"
      ],
      "execution_count": 42,
      "outputs": []
    },
    {
      "cell_type": "code",
      "metadata": {
        "id": "Z16HVZfQgbr0"
      },
      "source": [
        "# Resultados_NPre_binarizacao_Pos\n",
        "bin_np_p_j = Jaccard_binarizacao_array(imagens, 1)\n",
        "\n",
        "salva_contexto(bin_np_p_j, 'bin_np_p_j', 'j')"
      ],
      "execution_count": 43,
      "outputs": []
    },
    {
      "cell_type": "code",
      "metadata": {
        "id": "RSoCMf_hgdTQ"
      },
      "source": [
        "# Resultados_Pre_binarizacao_NPos\n",
        "bin_p_np_j = Jaccard_binarizacao_array(imagens, 2)\n",
        "\n",
        "salva_contexto(bin_p_np_j, 'bin_p_np_j', 'j')"
      ],
      "execution_count": 44,
      "outputs": []
    },
    {
      "cell_type": "code",
      "metadata": {
        "id": "zJsiZDp3ge-0"
      },
      "source": [
        "# Resultados_NPre_binarizacao_NPos\n",
        "bin_np_np_j = Jaccard_binarizacao_array(imagens, 3)\n",
        "\n",
        "salva_contexto(bin_np_np_j, 'bin_np_np_j', 'j')"
      ],
      "execution_count": 45,
      "outputs": []
    },
    {
      "cell_type": "code",
      "metadata": {
        "id": "w70qhGVhggTT"
      },
      "source": [
        "# Resultados_Pre_binarizacao_Pos\n",
        "bin_p_p_d = Dice_binarizacao_array(imagens)\n",
        "\n",
        "salva_contexto(bin_p_p_d, 'bin_p_p_d', 'd')"
      ],
      "execution_count": 46,
      "outputs": []
    },
    {
      "cell_type": "code",
      "metadata": {
        "id": "oTzsiNxyghuQ"
      },
      "source": [
        "# Resultados_NPre_binarizacao_Pos\n",
        "bin_np_p_d = Dice_binarizacao_array(imagens, 1)\n",
        "\n",
        "salva_contexto(bin_np_p_d, 'bin_np_p_d', 'd')"
      ],
      "execution_count": 47,
      "outputs": []
    },
    {
      "cell_type": "code",
      "metadata": {
        "id": "tRCejYlYgjIa"
      },
      "source": [
        "# Resultados_Pre_binarizacao_NPos\n",
        "bin_p_np_d = Dice_binarizacao_array(imagens, 2)\n",
        "\n",
        "salva_contexto(bin_p_np_d, 'bin_p_np_d', 'd')"
      ],
      "execution_count": 48,
      "outputs": []
    },
    {
      "cell_type": "code",
      "metadata": {
        "id": "01xqQRB0gkfG"
      },
      "source": [
        "# Resultados_NPre_binarizacao_NPos\n",
        "bin_np_np_d = Dice_binarizacao_array(imagens, 3)\n",
        "\n",
        "salva_contexto(bin_np_np_d, 'bin_np_np_d', 'd')"
      ],
      "execution_count": 49,
      "outputs": []
    },
    {
      "cell_type": "markdown",
      "metadata": {
        "id": "S7ljv1dHAdcB"
      },
      "source": [
        "## Bin Adap Gauss"
      ]
    },
    {
      "cell_type": "code",
      "metadata": {
        "id": "M7TQRhirAiY_"
      },
      "source": [
        "# Resultados_Pre_binarizacao_Pos\n",
        "binG_p_p_j = Jaccard_binarizacao_adptativa_gauss_array(imagens)\n",
        "\n",
        "salva_contexto(binG_p_p_j, 'binG_p_p_j', 'j')"
      ],
      "execution_count": 50,
      "outputs": []
    },
    {
      "cell_type": "code",
      "metadata": {
        "id": "A0Xq94TqAkB-"
      },
      "source": [
        "# Resultados_NPre_binarizacao_Pos\n",
        "binG_np_p_j = Jaccard_binarizacao_adptativa_gauss_array(imagens, 1)\n",
        "\n",
        "salva_contexto(binG_np_p_j, 'binG_np_p_j', 'j')"
      ],
      "execution_count": 51,
      "outputs": []
    },
    {
      "cell_type": "code",
      "metadata": {
        "id": "C_aDE6k_Alo2"
      },
      "source": [
        "# Resultados_Pre_binarizacao_NPos\n",
        "binG_p_np_j = Jaccard_binarizacao_adptativa_gauss_array(imagens, 2)\n",
        "\n",
        "salva_contexto(binG_p_np_j, 'binG_p_np_j', 'j')"
      ],
      "execution_count": 52,
      "outputs": []
    },
    {
      "cell_type": "code",
      "metadata": {
        "id": "zPjYWZtiAn2Q"
      },
      "source": [
        "# Resultados_NPre_binarizacao_NPos\n",
        "binG_np_np_j = Jaccard_binarizacao_adptativa_gauss_array(imagens, 3)\n",
        "\n",
        "salva_contexto(binG_np_np_j, 'binG_np_np_j', 'j')"
      ],
      "execution_count": 53,
      "outputs": []
    },
    {
      "cell_type": "code",
      "metadata": {
        "id": "PpEfP81rAppd"
      },
      "source": [
        "# Resultados_Pre_binarizacao_Pos\n",
        "binG_p_p_d = Dice_binarizacao_adptativa_gauss_array(imagens)\n",
        "\n",
        "salva_contexto(binG_p_p_d, 'binG_p_p_d', 'd')"
      ],
      "execution_count": 54,
      "outputs": []
    },
    {
      "cell_type": "code",
      "metadata": {
        "id": "8e0GayrqAqPk"
      },
      "source": [
        "# Resultados_NPre_binarizacao_Pos\n",
        "binG_np_p_d = Dice_binarizacao_adptativa_gauss_array(imagens, 1)\n",
        "\n",
        "salva_contexto(binG_np_p_d, 'binG_np_p_d', 'd')"
      ],
      "execution_count": 55,
      "outputs": []
    },
    {
      "cell_type": "code",
      "metadata": {
        "id": "PC7J5jxeAsvY"
      },
      "source": [
        "# Resultados_Pre_binarizacao_NPos\n",
        "binG_p_np_d = Dice_binarizacao_adptativa_gauss_array(imagens, 2)\n",
        "\n",
        "salva_contexto(binG_p_np_d, 'binG_p_np_d', 'd')"
      ],
      "execution_count": 56,
      "outputs": []
    },
    {
      "cell_type": "code",
      "metadata": {
        "id": "lZVwsw08AuK4"
      },
      "source": [
        "# Resultados_NPre_binarizacao_NPos\n",
        "binG_np_np_d = Dice_binarizacao_adptativa_gauss_array(imagens, 3)\n",
        "\n",
        "salva_contexto(binG_np_np_d, 'binG_np_np_d', 'd')"
      ],
      "execution_count": 57,
      "outputs": []
    },
    {
      "cell_type": "markdown",
      "metadata": {
        "id": "6oPw_87NOy_s"
      },
      "source": [
        "## Bin Adap Mean"
      ]
    },
    {
      "cell_type": "code",
      "metadata": {
        "id": "SsRTX7fMO1nM"
      },
      "source": [
        "# Resultados_Pre_binarizacao_Pos\n",
        "binM_p_p_j = Jaccard_binarizacao_adptativa_mean_array(imagens)\n",
        "\n",
        "salva_contexto(binM_p_p_j, 'binM_p_p_j', 'j')"
      ],
      "execution_count": 58,
      "outputs": []
    },
    {
      "cell_type": "code",
      "metadata": {
        "id": "lepXfrnGO4yu"
      },
      "source": [
        "# Resultados_NPre_binarizacao_Pos\n",
        "binM_np_p_j = Jaccard_binarizacao_adptativa_mean_array(imagens, 1)\n",
        "\n",
        "salva_contexto(binM_np_p_j, 'binM_np_p_j', 'j')"
      ],
      "execution_count": 59,
      "outputs": []
    },
    {
      "cell_type": "code",
      "metadata": {
        "id": "zDK-zpxWO6Im"
      },
      "source": [
        "# Resultados_Pre_binarizacao_NPos\n",
        "binM_p_np_j = Jaccard_binarizacao_adptativa_mean_array(imagens, 2)\n",
        "\n",
        "salva_contexto(binM_p_np_j, 'binM_p_np_j', 'j')"
      ],
      "execution_count": 60,
      "outputs": []
    },
    {
      "cell_type": "code",
      "metadata": {
        "id": "fyMVUhB_O7ml"
      },
      "source": [
        "# Resultados_NPre_binarizacao_NPos\n",
        "binM_np_np_j = Jaccard_binarizacao_adptativa_mean_array(imagens, 3)\n",
        "\n",
        "salva_contexto(binM_np_np_j, 'binM_np_np_j', 'j')"
      ],
      "execution_count": 61,
      "outputs": []
    },
    {
      "cell_type": "code",
      "metadata": {
        "id": "rJ4Y8UOmO9B6"
      },
      "source": [
        "# Resultados_Pre_binarizacao_Pos\n",
        "binM_p_p_d = Dice_binarizacao_adptativa_mean_array(imagens)\n",
        "\n",
        "salva_contexto(binM_p_p_d, 'binM_p_p_d', 'd')"
      ],
      "execution_count": 62,
      "outputs": []
    },
    {
      "cell_type": "code",
      "metadata": {
        "id": "53E_kZe6O-US"
      },
      "source": [
        "# Resultados_NPre_binarizacao_Pos\n",
        "binM_np_p_d = Dice_binarizacao_adptativa_mean_array(imagens, 1)\n",
        "\n",
        "salva_contexto(binM_np_p_d, 'binM_np_p_d', 'd')"
      ],
      "execution_count": 63,
      "outputs": []
    },
    {
      "cell_type": "code",
      "metadata": {
        "id": "i74ta_ybO_ir"
      },
      "source": [
        "# Resultados_Pre_binarizacao_NPos\n",
        "binM_p_np_d = Dice_binarizacao_adptativa_mean_array(imagens, 2)\n",
        "\n",
        "salva_contexto(binM_p_np_d, 'binM_p_np_d', 'd')"
      ],
      "execution_count": 64,
      "outputs": []
    },
    {
      "cell_type": "code",
      "metadata": {
        "id": "2InScxSFPApV"
      },
      "source": [
        "# Resultados_NPre_binarizacao_NPos\n",
        "binM_np_np_d = Dice_binarizacao_adptativa_mean_array(imagens, 3)\n",
        "\n",
        "salva_contexto(binM_np_np_d, 'binM_np_np_d', 'd')"
      ],
      "execution_count": 65,
      "outputs": []
    },
    {
      "cell_type": "markdown",
      "metadata": {
        "id": "sqaIUhu7wVZ8"
      },
      "source": [
        "## Crescimento de regiao\n"
      ]
    },
    {
      "cell_type": "code",
      "metadata": {
        "id": "qUudRCM8wfVe"
      },
      "source": [
        "# Resultados_Pre_binarizacao_Pos\n",
        "cr_p_p_j = Jaccard_crescimento_de_regiao_array(imagens)\n",
        "\n",
        "salva_contexto(cr_p_p_j, 'cr_p_p_j', 'j')"
      ],
      "execution_count": 66,
      "outputs": []
    },
    {
      "cell_type": "code",
      "metadata": {
        "id": "GF0UEC-8wg8z"
      },
      "source": [
        "# Resultados_NPre_binarizacao_Pos\n",
        "cr_np_p_j = Jaccard_crescimento_de_regiao_array(imagens, 1)\n",
        "\n",
        "salva_contexto(cr_np_p_j, 'cr_np_p_j', 'j')"
      ],
      "execution_count": 67,
      "outputs": []
    },
    {
      "cell_type": "code",
      "metadata": {
        "id": "fLouT0yhwivB"
      },
      "source": [
        "# Resultados_Pre_binarizacao_NPos\n",
        "cr_p_np_j = Jaccard_crescimento_de_regiao_array(imagens, 2)\n",
        "\n",
        "salva_contexto(cr_p_np_j, 'cr_p_np_j', 'j')"
      ],
      "execution_count": 68,
      "outputs": []
    },
    {
      "cell_type": "code",
      "metadata": {
        "id": "bylsYBeywlp5"
      },
      "source": [
        "# Resultados_NPre_binarizacao_NPos\n",
        "cr_np_np_j = Jaccard_crescimento_de_regiao_array(imagens, 3)\n",
        "\n",
        "salva_contexto(cr_np_np_j, 'cr_np_np_j', 'j')"
      ],
      "execution_count": 69,
      "outputs": []
    },
    {
      "cell_type": "code",
      "metadata": {
        "id": "fT_nqNkKwnRC"
      },
      "source": [
        "# Resultados_Pre_binarizacao_Pos\n",
        "cr_p_p_d = Dice_crescimento_de_regiao_array(imagens)\n",
        "\n",
        "salva_contexto(cr_p_p_d, 'cr_p_p_d', 'd')"
      ],
      "execution_count": 70,
      "outputs": []
    },
    {
      "cell_type": "code",
      "metadata": {
        "id": "5e9MXtz2worE"
      },
      "source": [
        "# Resultados_NPre_binarizacao_Pos\n",
        "cr_np_p_d = Dice_crescimento_de_regiao_array(imagens, 1)\n",
        "\n",
        "salva_contexto(cr_np_p_d, 'cr_np_p_d', 'd')"
      ],
      "execution_count": 71,
      "outputs": []
    },
    {
      "cell_type": "code",
      "metadata": {
        "id": "ZP8mZ2onwp3y"
      },
      "source": [
        "# Resultados_Pre_binarizacao_NPos\n",
        "cr_p_np_d = Dice_crescimento_de_regiao_array(imagens, 2)\n",
        "\n",
        "salva_contexto(cr_p_np_d, 'cr_p_np_d', 'd')"
      ],
      "execution_count": 72,
      "outputs": []
    },
    {
      "cell_type": "code",
      "metadata": {
        "id": "1dfCQWHQwrKg"
      },
      "source": [
        "# Resultados_NPre_binarizacao_NPos\n",
        "cr_np_np_d = Dice_crescimento_de_regiao_array(imagens, 3)\n",
        "\n",
        "salva_contexto(cr_np_np_d, 'cr_np_np_d', 'd')"
      ],
      "execution_count": 73,
      "outputs": []
    },
    {
      "cell_type": "markdown",
      "metadata": {
        "id": "3TwMnMTy0KPk"
      },
      "source": [
        "## Controle: "
      ]
    },
    {
      "cell_type": "code",
      "metadata": {
        "id": "jhibEg_hg7Ml"
      },
      "source": [
        "# Resultados_Tudo_BRanco\n",
        "con_branco_j = Jaccard_tudo_branco_array(imagens)\n",
        "\n",
        "salva_contexto(con_branco_j, 'con_branco_j', 'j')"
      ],
      "execution_count": 74,
      "outputs": []
    },
    {
      "cell_type": "code",
      "metadata": {
        "id": "FWwbtUsLwf4-"
      },
      "source": [
        "# Resultados_Tudo_branco\n",
        "con_branco_d = Dice_tudo_branco_array(imagens)\n",
        "\n",
        "salva_contexto(con_branco_d, 'con_branco_d', 'd')"
      ],
      "execution_count": 75,
      "outputs": []
    },
    {
      "cell_type": "code",
      "metadata": {
        "id": "7nD4eJq9xv7h"
      },
      "source": [
        "# Resultados_Tudo_preto\n",
        "con_preta_j = Jaccard_tudo_preto_array(imagens)\n",
        "\n",
        "salva_contexto(con_preta_j, 'con_preta_j', 'j')"
      ],
      "execution_count": 76,
      "outputs": []
    },
    {
      "cell_type": "code",
      "metadata": {
        "id": "yRCAITiaxyyz"
      },
      "source": [
        "# Resultados_Tudo_preto\n",
        "con_preta_d = Dice_tudo_preto_array(imagens)\n",
        "\n",
        "salva_contexto(con_preta_d, 'con_preta_d', 'd')"
      ],
      "execution_count": 77,
      "outputs": []
    },
    {
      "cell_type": "code",
      "metadata": {
        "id": "SCaihUlbyJx_"
      },
      "source": [
        "# Resultados_Tudo_com_filtro\n",
        "con_filtro_j = Jaccard_tudo_com_filtro_array(imagens)\n",
        "\n",
        "salva_contexto(con_filtro_j, 'con_filtro_j', 'j')"
      ],
      "execution_count": 78,
      "outputs": []
    },
    {
      "cell_type": "code",
      "metadata": {
        "id": "Py_D7zxWyNl3"
      },
      "source": [
        "# Resultados_Tudo_com_filtro\n",
        "con_filtro_d = Dice_tudo_com_filtro_array(imagens)\n",
        "\n",
        "salva_contexto(con_filtro_d, 'con_filtro_d', 'd')"
      ],
      "execution_count": 79,
      "outputs": []
    },
    {
      "cell_type": "markdown",
      "metadata": {
        "id": "aWcS7xbyE1WR"
      },
      "source": [
        "## Médias"
      ]
    },
    {
      "cell_type": "code",
      "metadata": {
        "id": "mOdG_5Vs4Jo4",
        "outputId": "7060059a-0110-41c2-befb-db8a1ce23f68",
        "colab": {
          "base_uri": "https://localhost:8080/",
          "height": 1000
        }
      },
      "source": [
        "print('kmeans_p_p_j:', np.mean(kmeans_p_p_j))\n",
        "print('kmeans_np_p_j:', np.mean(kmeans_np_p_j))\n",
        "print('kmeans_p_np_j:', np.mean(kmeans_p_np_j))\n",
        "print('kmeans_np_np_j:', np.mean(kmeans_np_np_j))\n",
        "print('kmeans_p_p_d:', np.mean(kmeans_p_p_d))\n",
        "print('kmeans_np_p_d:', np.mean(kmeans_np_p_d))\n",
        "print('kmeans_p_np_d:', np.mean(kmeans_p_np_d))\n",
        "print('kmeans_np_np_d:', np.mean(kmeans_np_np_d))\n",
        "print('\\n')\n",
        "\n",
        "print('otsu_p_p_j:', np.mean(otsu_p_p_j))\n",
        "print('otsu_np_p_j:', np.mean(otsu_np_p_j))\n",
        "print('otsu_p_np_j:', np.mean(otsu_p_np_j))\n",
        "print('otsu_np_np_j:', np.mean(otsu_np_np_j))\n",
        "print('otsu_p_p_d:', np.mean(otsu_p_p_d))\n",
        "print('otsu_np_p_d:', np.mean(otsu_np_p_d))\n",
        "print('otsu_p_np_d:', np.mean(otsu_p_np_d))\n",
        "print('otsu_np_np_d:', np.mean(otsu_np_np_d))\n",
        "print('\\n')\n",
        "\n",
        "print('bin_p_p_j:', np.mean(bin_p_p_j))\n",
        "print('bin_np_p_j:', np.mean(bin_np_p_j))\n",
        "print('bin_p_np_j:', np.mean(bin_p_np_j))\n",
        "print('bin_np_np_j:', np.mean(bin_np_np_j))\n",
        "print('bin_p_p_d:', np.mean(bin_p_p_d))\n",
        "print('bin_np_p_d:', np.mean(bin_np_p_d))\n",
        "print('bin_p_np_d:', np.mean(bin_p_np_d))\n",
        "print('bin_np_np_d:', np.mean(bin_np_np_d))\n",
        "print('\\n')\n",
        "\n",
        "print('binG_p_p_j:', np.mean(binG_p_p_j))\n",
        "print('binG_np_p_j:', np.mean(binG_np_p_j))\n",
        "print('binG_p_np_j:', np.mean(binG_p_np_j))\n",
        "print('binG_np_np_j:', np.mean(binG_np_np_j))\n",
        "print('binG_p_p_d:', np.mean(binG_p_p_d))\n",
        "print('binG_np_p_d:', np.mean(binG_np_p_d))\n",
        "print('binG_p_np_d:', np.mean(binG_p_np_d))\n",
        "print('binG_np_np_d:', np.mean(binG_np_np_d))\n",
        "print('\\n')\n",
        "\n",
        "print('binM_p_p_j:', np.mean(binM_p_p_j))\n",
        "print('binM_np_p_j:', np.mean(binM_np_p_j))\n",
        "print('binM_p_np_j:', np.mean(binM_p_np_j))\n",
        "print('binM_np_np_j:', np.mean(binM_np_np_j))\n",
        "print('binM_p_p_d:', np.mean(binM_p_p_d))\n",
        "print('binM_np_p_d:', np.mean(binM_np_p_d))\n",
        "print('binM_p_np_d:', np.mean(binM_p_np_d))\n",
        "print('binM_np_np_d:', np.mean(binM_np_np_d))\n",
        "print('\\n')\n",
        "\n",
        "print('cr_p_p_j:', np.mean(cr_p_p_j))\n",
        "print('cr_np_p_j:', np.mean(cr_np_p_j))\n",
        "print('cr_p_np_j:', np.mean(cr_p_np_j))\n",
        "print('cr_np_np_j:', np.mean(cr_np_np_j))\n",
        "print('cr_p_p_d:', np.mean(cr_p_p_d))\n",
        "print('cr_np_p_d:', np.mean(cr_np_p_d))\n",
        "print('cr_p_np_d:', np.mean(cr_p_np_d))\n",
        "print('cr_np_np_d:', np.mean(cr_np_np_d))\n",
        "print('\\n')\n",
        "\n",
        "print('con_branco_j:', np.mean(con_branco_j))\n",
        "print('con_branco_d:', np.mean(con_branco_d))\n",
        "print('con_preta_j:', np.mean(con_preta_j))\n",
        "print('con_preta_d:', np.mean(con_preta_d))\n",
        "print('con_filtro_j:', np.mean(con_filtro_j))\n",
        "print('con_filtro_d:', np.mean(con_filtro_d))"
      ],
      "execution_count": 80,
      "outputs": [
        {
          "output_type": "stream",
          "text": [
            "kmeans_p_p_j: 0.7339159042115555\n",
            "kmeans_np_p_j: 0.7368416710795027\n",
            "kmeans_p_np_j: 0.6846806646006436\n",
            "kmeans_np_np_j: 0.6883312662112082\n",
            "kmeans_p_p_d: 0.8258441525785456\n",
            "kmeans_np_p_d: 0.8338432174599987\n",
            "kmeans_p_np_d: 0.7895510378066218\n",
            "kmeans_np_np_d: 0.7961915436181983\n",
            "\n",
            "\n",
            "otsu_p_p_j: 0.7491635813485539\n",
            "otsu_np_p_j: 0.7466412052722196\n",
            "otsu_p_np_j: 0.6605107167381061\n",
            "otsu_np_np_j: 0.65099706563493\n",
            "otsu_p_p_d: 0.837709851075457\n",
            "otsu_np_p_d: 0.8424865874772601\n",
            "otsu_p_np_d: 0.7718062092219953\n",
            "otsu_np_np_d: 0.7679738344460995\n",
            "\n",
            "\n",
            "bin_p_p_j: 0.6689622546887567\n",
            "bin_np_p_j: 0.6733996560700833\n",
            "bin_p_np_j: 0.6087824302048286\n",
            "bin_np_np_j: 0.6218970460031698\n",
            "bin_p_p_d: 0.775024052187989\n",
            "bin_np_p_d: 0.7862486341203784\n",
            "bin_p_np_d: 0.7222952941803146\n",
            "bin_np_np_d: 0.7403838694434793\n",
            "\n",
            "\n",
            "binG_p_p_j: 0.6843353267533981\n",
            "binG_np_p_j: 0.6420186811274923\n",
            "binG_p_np_j: 0.5446171809939\n",
            "binG_np_np_j: 0.4781991104885095\n",
            "binG_p_p_d: 0.7976349395191642\n",
            "binG_np_p_d: 0.7666555939565292\n",
            "binG_p_np_d: 0.6787892083004573\n",
            "binG_np_np_d: 0.6157070675122566\n",
            "\n",
            "\n",
            "binM_p_p_j: 0.6779195354775228\n",
            "binM_np_p_j: 0.5481325055321659\n",
            "binM_p_np_j: 0.593501275514951\n",
            "binM_np_np_j: 0.42847243716330247\n",
            "binM_p_p_d: 0.7917795005844183\n",
            "binM_np_p_d: 0.6827669770170149\n",
            "binM_p_np_d: 0.7199141867914275\n",
            "binM_np_np_d: 0.5573304050596721\n",
            "\n",
            "\n",
            "cr_p_p_j: 0.5789476952602454\n",
            "cr_np_p_j: 0.5481325055321659\n",
            "cr_p_np_j: 0.5895877214799436\n",
            "cr_np_np_j: 0.4844781887833294\n",
            "cr_p_p_d: 0.7020957247047585\n",
            "cr_np_p_d: 0.6827669770170149\n",
            "cr_p_np_d: 0.7075234294073514\n",
            "cr_np_np_d: 0.613751199919502\n",
            "\n",
            "\n",
            "con_branco_j: 0.32244254557695506\n",
            "con_branco_d: 0.44567108460672855\n",
            "con_preta_j: 0.0\n",
            "con_preta_d: 0.0\n",
            "con_filtro_j: 0.4042818886686576\n",
            "con_filtro_d: 0.5368096491831307\n"
          ],
          "name": "stdout"
        }
      ]
    }
  ]
}
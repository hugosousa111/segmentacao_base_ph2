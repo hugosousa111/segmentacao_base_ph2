{
  "nbformat": 4,
  "nbformat_minor": 0,
  "metadata": {
    "colab": {
      "name": "pré-processamento.ipynb",
      "provenance": [],
      "authorship_tag": "ABX9TyNbFCMW7xpOzUko5TDr+xYy",
      "include_colab_link": true
    },
    "kernelspec": {
      "name": "python3",
      "display_name": "Python 3"
    }
  },
  "cells": [
    {
      "cell_type": "markdown",
      "metadata": {
        "id": "view-in-github",
        "colab_type": "text"
      },
      "source": [
        "<a href=\"https://colab.research.google.com/github/hugosousa111/segmentacao_base_ph2/blob/main/pr%C3%A9_processamento.ipynb\" target=\"_parent\"><img src=\"https://colab.research.google.com/assets/colab-badge.svg\" alt=\"Open In Colab\"/></a>"
      ]
    },
    {
      "cell_type": "markdown",
      "metadata": {
        "id": "yOo-GBbnNjA1"
      },
      "source": [
        "# Configurações e Bibliotecas"
      ]
    },
    {
      "cell_type": "code",
      "metadata": {
        "id": "gIfXm9AGsVOm",
        "outputId": "0c5e3b23-8fff-45fb-db39-e271606bc84e",
        "colab": {
          "base_uri": "https://localhost:8080/",
          "height": 0
        }
      },
      "source": [
        "# Acessa o Drive\n",
        "from google.colab import drive\n",
        "drive.mount('/content/drive') "
      ],
      "execution_count": 1,
      "outputs": [
        {
          "output_type": "stream",
          "text": [
            "Mounted at /content/drive\n"
          ],
          "name": "stdout"
        }
      ]
    },
    {
      "cell_type": "code",
      "metadata": {
        "id": "ZiXOlU_d-ia6"
      },
      "source": [
        "import matplotlib.pyplot as plt \n",
        "import numpy as np \n",
        "from scipy import signal as sg\n",
        "import cv2 as cv\n",
        "import warnings\n",
        "warnings.filterwarnings(\"ignore\") \n",
        "import os\n",
        "from IPython.display import clear_output\n",
        "import pandas as pd\n",
        "from collections import deque "
      ],
      "execution_count": 2,
      "outputs": []
    },
    {
      "cell_type": "markdown",
      "metadata": {
        "id": "VLzgxit5NsPT"
      },
      "source": [
        "# Funções Auxiliares"
      ]
    },
    {
      "cell_type": "code",
      "metadata": {
        "id": "bgSJ2I6ttIWI"
      },
      "source": [
        "def just_save(image, caminho=\"\", nome=\"name\",  colorida=False):\n",
        "    dpi = 80\n",
        "\n",
        "    if not colorida:\n",
        "        height, width = image.shape\n",
        "\n",
        "        figsize = width / float(dpi), height / float(dpi)\n",
        "\n",
        "        fig = plt.figure(figsize=figsize)\n",
        "        ax = fig.add_axes([0, 0, 1, 1])\n",
        "        ax.axis('off')\n",
        "\n",
        "        ax.imshow(image, cmap=plt.cm.gray)\n",
        "    else:\n",
        "        height, width, nbands = image.shape\n",
        "\n",
        "        figsize = width / float(dpi), height / float(dpi)\n",
        "\n",
        "        fig = plt.figure(figsize=figsize)\n",
        "        ax = fig.add_axes([0, 0, 1, 1])\n",
        "\n",
        "        ax.axis('off')\n",
        "\n",
        "        ax.imshow(image[:,:,::-1])\n",
        "    ax.set(xlim=[-0.5, width - 0.5], ylim=[height - 0.5, -0.5], aspect=1)\n",
        "\n",
        "    fig.savefig('/content/drive/My Drive/PH2_TCC/'+caminho+'/'+nome, dpi=dpi, transparent=True)\n",
        "    plt.close(fig)"
      ],
      "execution_count": 3,
      "outputs": []
    },
    {
      "cell_type": "code",
      "metadata": {
        "id": "XA04Numq4cY0"
      },
      "source": [
        "def get_names_images():\n",
        "    filenames= os.listdir (\"/content/drive/My Drive/PH2Dataset/PH2 Dataset images\")\n",
        "\n",
        "    result = []\n",
        "    for filename in filenames:\n",
        "        if os.path.isdir(os.path.join(os.path.abspath(\"/content/drive/My Drive/PH2Dataset/PH2 Dataset images\"), filename)):\n",
        "            result.append(filename)        \n",
        "    result.sort()\n",
        "    return result\n",
        "\n",
        "imagens = get_names_images()\n",
        "#imagens = imagens[0:30]"
      ],
      "execution_count": 4,
      "outputs": []
    },
    {
      "cell_type": "code",
      "metadata": {
        "id": "1cJV0-vO-0sm"
      },
      "source": [
        "def carrega_imagem_original(image, color=0):\n",
        "    img = cv.imread('/content/drive/My Drive/PH2Dataset/PH2 Dataset images/'+image+'/'+image+'_Dermoscopic_Image/'+image+'.bmp', color)\n",
        "    return img"
      ],
      "execution_count": 5,
      "outputs": []
    },
    {
      "cell_type": "markdown",
      "metadata": {
        "id": "GWD_9PLzN47z"
      },
      "source": [
        "# Pré Processamento"
      ]
    },
    {
      "cell_type": "code",
      "metadata": {
        "id": "rgW94rTCGtfe"
      },
      "source": [
        "def pre_processamento_blackhat(src, plot=0):\n",
        "    grayScale = cv.cvtColor( src, cv.COLOR_RGB2GRAY )\n",
        "\n",
        "    kernel = cv.getStructuringElement(1,(15,15))\n",
        "    blackhat = cv.morphologyEx(grayScale, cv.MORPH_BLACKHAT, kernel)\n",
        "\n",
        "    ret,thresh2 = cv.threshold(blackhat,10,255,cv.THRESH_BINARY)\n",
        "    \n",
        "    dst = cv.inpaint(src,thresh2,1,cv.INPAINT_TELEA)\n",
        "    if plot==1: \n",
        "        plota(grayScale, \"\")\n",
        "        just_save(grayScale, caminho=\"outros\", nome=\"grayScale\",  colorida=False)\n",
        "    \n",
        "        plota(blackhat, \"\")\n",
        "        just_save(blackhat, caminho=\"outros\", nome=\"blackhat\",  colorida=False)\n",
        "\n",
        "        plota(thresh2, \"\")\n",
        "        just_save(thresh2, caminho=\"outros\", nome=\"thresh2\",  colorida=False)\n",
        "    return dst"
      ],
      "execution_count": 6,
      "outputs": []
    },
    {
      "cell_type": "code",
      "metadata": {
        "id": "9fXpdAnZJnc_"
      },
      "source": [
        "def pre_processamento_array(imagens, tipo=0): \n",
        "    if tipo == 0:\n",
        "        dir = \"Pre_Processadas_Black_Hat\"\n",
        "        for img_nome in imagens:\n",
        "            print(img_nome+' ...')\n",
        "            img = carrega_imagem_original(img_nome, 1)\n",
        "\n",
        "            img_pre = pre_processamento_blackhat(img)\n",
        "\n",
        "            just_save(img_pre,dir,img_nome, True)\n",
        "    clear_output()"
      ],
      "execution_count": 7,
      "outputs": []
    },
    {
      "cell_type": "code",
      "metadata": {
        "id": "RLC8DFgPKS09"
      },
      "source": [
        "# Pré-processamento\n",
        "imagens = get_names_images()\n",
        "pre_processamento_array(imagens)"
      ],
      "execution_count": 8,
      "outputs": []
    }
  ]
}